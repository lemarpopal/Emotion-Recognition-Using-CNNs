{
 "cells": [
  {
   "cell_type": "code",
   "execution_count": 9,
   "metadata": {},
   "outputs": [],
   "source": [
    "import pandas as pd\n",
    "import os\n",
    "import shutil\n",
    "import cv2 as cv"
   ]
  },
  {
   "cell_type": "code",
   "execution_count": 11,
   "metadata": {},
   "outputs": [],
   "source": [
    "# Create directory structure for combined dataset\n",
    "\n",
    "if os.path.exists(\"combined\"):\n",
    "    shutil.rmtree(\"combined\")\n",
    "    \n",
    "os.mkdir(\"combined\")\n",
    "base_path = \"combined\"\n",
    "for category in [\"train\", \"validation\", \"test\"]:\n",
    "    cat_path = os.path.join(base_path, category)\n",
    "    os.mkdir(cat_path)\n",
    "    for emotion in ['angry', 'neutral', 'fear', 'surprise', 'disgust', 'happy', 'sad']:\n",
    "        emotion_path = os.path.join(cat_path, emotion)\n",
    "        os.mkdir(emotion_path)"
   ]
  },
  {
   "cell_type": "markdown",
   "metadata": {},
   "source": [
    "## Move data from expw folder to combined folder (no resizing, convert to grayscale)"
   ]
  },
  {
   "cell_type": "code",
   "execution_count": 12,
   "metadata": {},
   "outputs": [],
   "source": [
    "for root, dirs, files in os.walk(\"expw\"):\n",
    "    if len(dirs) == 0: # if there are no more directories we are in images folder\n",
    "        category = root.split(\"/\")[1]\n",
    "        cat_path = os.path.join(base_path, category)\n",
    "        emotion = root.split(\"/\")[2]\n",
    "        emotion_path = os.path.join(cat_path, emotion)\n",
    "        \n",
    "        for file in files:\n",
    "            current_file_path = os.path.join(root, file)\n",
    "            new_file_path = os.path.join(emotion_path, file)\n",
    "            \n",
    "            img = cv.imread(current_file_path, 0)\n",
    "            cv.imwrite(current_file_path, img)\n",
    "            shutil.copyfile(current_file_path, new_file_path)"
   ]
  },
  {
   "cell_type": "markdown",
   "metadata": {},
   "source": [
    "## Move data from fer2013 folder to combined folder (resize to 64x64)"
   ]
  },
  {
   "cell_type": "code",
   "execution_count": 13,
   "metadata": {},
   "outputs": [],
   "source": [
    "for root, dirs, files in os.walk(\"fer2013\"):\n",
    "#     print(root, dirs)\n",
    "    if len(dirs) == 0: # if there are no more directories we are in images folder\n",
    "        category = root.split(\"/\")[1]\n",
    "        cat_path = os.path.join(base_path, category)\n",
    "        emotion = root.split(\"/\")[2]\n",
    "        emotion_path = os.path.join(cat_path, emotion)\n",
    "        \n",
    "        for file in files:\n",
    "            current_file_path = os.path.join(root, file)\n",
    "            new_file_path = os.path.join(emotion_path, file)\n",
    "            \n",
    "            img = cv.imread(current_file_path, 0)\n",
    "            img = cv.resize(img, (64, 64))\n",
    "            cv.imwrite(current_file_path, img)\n",
    "            shutil.copyfile(current_file_path, new_file_path)"
   ]
  },
  {
   "cell_type": "code",
   "execution_count": null,
   "metadata": {},
   "outputs": [],
   "source": []
  }
 ],
 "metadata": {
  "kernelspec": {
   "display_name": "Python 3",
   "language": "python",
   "name": "python3"
  },
  "language_info": {
   "codemirror_mode": {
    "name": "ipython",
    "version": 3
   },
   "file_extension": ".py",
   "mimetype": "text/x-python",
   "name": "python",
   "nbconvert_exporter": "python",
   "pygments_lexer": "ipython3",
   "version": "3.7.7"
  }
 },
 "nbformat": 4,
 "nbformat_minor": 4
}
